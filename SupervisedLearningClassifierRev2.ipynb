{
 "cells": [
  {
   "cell_type": "code",
   "execution_count": null,
   "metadata": {},
   "outputs": [],
   "source": [
    "!date"
   ]
  },
  {
   "cell_type": "code",
   "execution_count": null,
   "metadata": {},
   "outputs": [],
   "source": [
    "!sudo apt update"
   ]
  },
  {
   "cell_type": "code",
   "execution_count": null,
   "metadata": {},
   "outputs": [],
   "source": [
    "!sudo apt install python3-pip"
   ]
  },
  {
   "cell_type": "code",
   "execution_count": null,
   "metadata": {},
   "outputs": [],
   "source": [
    "!sudo pip3 --version"
   ]
  },
  {
   "cell_type": "code",
   "execution_count": null,
   "metadata": {},
   "outputs": [],
   "source": [
    "!sudo pip3 install numpy"
   ]
  },
  {
   "cell_type": "code",
   "execution_count": null,
   "metadata": {},
   "outputs": [],
   "source": [
    "!sudo pip3 install pandas"
   ]
  },
  {
   "cell_type": "code",
   "execution_count": null,
   "metadata": {},
   "outputs": [],
   "source": [
    "!sudo pip3 install matplotlib"
   ]
  },
  {
   "cell_type": "code",
   "execution_count": null,
   "metadata": {},
   "outputs": [],
   "source": [
    "!sudo pip3 install tensorflow\n"
   ]
  },
  {
   "cell_type": "code",
   "execution_count": 1,
   "metadata": {},
   "outputs": [
    {
     "name": "stdout",
     "output_type": "stream",
     "text": [
      "2.0.0\n"
     ]
    }
   ],
   "source": [
    "from __future__ import absolute_import, division, print_function\n",
    "\n",
    "# Helper libraries\n",
    "import numpy as np\n",
    "import pandas as pd\n",
    "import matplotlib.pyplot as plt\n",
    "\n",
    "# TensorFlow and tf.keras\n",
    "import tensorflow as tf\n",
    "from tensorflow import keras\n",
    "\n",
    "print(tf.__version__)"
   ]
  },
  {
   "cell_type": "code",
   "execution_count": 4,
   "metadata": {},
   "outputs": [],
   "source": [
    "#data1 = pd.read_csv(\"/home/rick_selby/SupplyChainDataRev3.csv\", skiprows = 0)\n",
    "data1 = pd.read_csv(\"/Users/basillatif/Desktop/nfl-big-data-bowl-2020/train.csv\", skiprows = 0)"
   ]
  },
  {
   "cell_type": "code",
   "execution_count": 3,
   "metadata": {},
   "outputs": [
    {
     "data": {
      "text/html": [
       "<div>\n",
       "<style scoped>\n",
       "    .dataframe tbody tr th:only-of-type {\n",
       "        vertical-align: middle;\n",
       "    }\n",
       "\n",
       "    .dataframe tbody tr th {\n",
       "        vertical-align: top;\n",
       "    }\n",
       "\n",
       "    .dataframe thead th {\n",
       "        text-align: right;\n",
       "    }\n",
       "</style>\n",
       "<table border=\"1\" class=\"dataframe\">\n",
       "  <thead>\n",
       "    <tr style=\"text-align: right;\">\n",
       "      <th></th>\n",
       "      <th>GameId</th>\n",
       "      <th>PlayId</th>\n",
       "      <th>Team</th>\n",
       "      <th>X</th>\n",
       "      <th>Y</th>\n",
       "      <th>S</th>\n",
       "      <th>A</th>\n",
       "      <th>Dis</th>\n",
       "      <th>Orientation</th>\n",
       "      <th>Dir</th>\n",
       "      <th>...</th>\n",
       "      <th>Stadium</th>\n",
       "      <th>Location</th>\n",
       "      <th>StadiumType</th>\n",
       "      <th>Turf</th>\n",
       "      <th>GameWeather</th>\n",
       "      <th>Temperature</th>\n",
       "      <th>Humidity</th>\n",
       "      <th>WindSpeed</th>\n",
       "      <th>WindDirection</th>\n",
       "      <th>Class</th>\n",
       "    </tr>\n",
       "  </thead>\n",
       "  <tbody>\n",
       "    <tr>\n",
       "      <th>0</th>\n",
       "      <td>2017090700</td>\n",
       "      <td>2.017090e+13</td>\n",
       "      <td>away</td>\n",
       "      <td>73.91</td>\n",
       "      <td>34.84</td>\n",
       "      <td>1.69</td>\n",
       "      <td>1.13</td>\n",
       "      <td>0.40</td>\n",
       "      <td>81.99</td>\n",
       "      <td>177.18</td>\n",
       "      <td>...</td>\n",
       "      <td>Gillette Stadium</td>\n",
       "      <td>Foxborough, MA</td>\n",
       "      <td>Outdoor</td>\n",
       "      <td>Field Turf</td>\n",
       "      <td>Clear and warm</td>\n",
       "      <td>63.0</td>\n",
       "      <td>77.0</td>\n",
       "      <td>8</td>\n",
       "      <td>SW</td>\n",
       "      <td>0</td>\n",
       "    </tr>\n",
       "    <tr>\n",
       "      <th>1</th>\n",
       "      <td>2017090700</td>\n",
       "      <td>2.017090e+13</td>\n",
       "      <td>away</td>\n",
       "      <td>74.67</td>\n",
       "      <td>32.64</td>\n",
       "      <td>0.42</td>\n",
       "      <td>1.35</td>\n",
       "      <td>0.01</td>\n",
       "      <td>27.61</td>\n",
       "      <td>198.70</td>\n",
       "      <td>...</td>\n",
       "      <td>Gillette Stadium</td>\n",
       "      <td>Foxborough, MA</td>\n",
       "      <td>Outdoor</td>\n",
       "      <td>Field Turf</td>\n",
       "      <td>Clear and warm</td>\n",
       "      <td>63.0</td>\n",
       "      <td>77.0</td>\n",
       "      <td>8</td>\n",
       "      <td>SW</td>\n",
       "      <td>0</td>\n",
       "    </tr>\n",
       "    <tr>\n",
       "      <th>2</th>\n",
       "      <td>2017090700</td>\n",
       "      <td>2.017090e+13</td>\n",
       "      <td>away</td>\n",
       "      <td>74.00</td>\n",
       "      <td>33.20</td>\n",
       "      <td>1.22</td>\n",
       "      <td>0.59</td>\n",
       "      <td>0.31</td>\n",
       "      <td>3.01</td>\n",
       "      <td>202.73</td>\n",
       "      <td>...</td>\n",
       "      <td>Gillette Stadium</td>\n",
       "      <td>Foxborough, MA</td>\n",
       "      <td>Outdoor</td>\n",
       "      <td>Field Turf</td>\n",
       "      <td>Clear and warm</td>\n",
       "      <td>63.0</td>\n",
       "      <td>77.0</td>\n",
       "      <td>8</td>\n",
       "      <td>SW</td>\n",
       "      <td>0</td>\n",
       "    </tr>\n",
       "    <tr>\n",
       "      <th>3</th>\n",
       "      <td>2017090700</td>\n",
       "      <td>2.017090e+13</td>\n",
       "      <td>away</td>\n",
       "      <td>71.46</td>\n",
       "      <td>27.70</td>\n",
       "      <td>0.42</td>\n",
       "      <td>0.54</td>\n",
       "      <td>0.02</td>\n",
       "      <td>359.77</td>\n",
       "      <td>105.64</td>\n",
       "      <td>...</td>\n",
       "      <td>Gillette Stadium</td>\n",
       "      <td>Foxborough, MA</td>\n",
       "      <td>Outdoor</td>\n",
       "      <td>Field Turf</td>\n",
       "      <td>Clear and warm</td>\n",
       "      <td>63.0</td>\n",
       "      <td>77.0</td>\n",
       "      <td>8</td>\n",
       "      <td>SW</td>\n",
       "      <td>0</td>\n",
       "    </tr>\n",
       "    <tr>\n",
       "      <th>4</th>\n",
       "      <td>2017090700</td>\n",
       "      <td>2.017090e+13</td>\n",
       "      <td>away</td>\n",
       "      <td>69.32</td>\n",
       "      <td>35.42</td>\n",
       "      <td>1.82</td>\n",
       "      <td>2.43</td>\n",
       "      <td>0.16</td>\n",
       "      <td>12.63</td>\n",
       "      <td>164.31</td>\n",
       "      <td>...</td>\n",
       "      <td>Gillette Stadium</td>\n",
       "      <td>Foxborough, MA</td>\n",
       "      <td>Outdoor</td>\n",
       "      <td>Field Turf</td>\n",
       "      <td>Clear and warm</td>\n",
       "      <td>63.0</td>\n",
       "      <td>77.0</td>\n",
       "      <td>8</td>\n",
       "      <td>SW</td>\n",
       "      <td>0</td>\n",
       "    </tr>\n",
       "  </tbody>\n",
       "</table>\n",
       "<p>5 rows × 50 columns</p>\n",
       "</div>"
      ],
      "text/plain": [
       "       GameId        PlayId  Team      X      Y     S     A   Dis  \\\n",
       "0  2017090700  2.017090e+13  away  73.91  34.84  1.69  1.13  0.40   \n",
       "1  2017090700  2.017090e+13  away  74.67  32.64  0.42  1.35  0.01   \n",
       "2  2017090700  2.017090e+13  away  74.00  33.20  1.22  0.59  0.31   \n",
       "3  2017090700  2.017090e+13  away  71.46  27.70  0.42  0.54  0.02   \n",
       "4  2017090700  2.017090e+13  away  69.32  35.42  1.82  2.43  0.16   \n",
       "\n",
       "   Orientation     Dir  ...           Stadium        Location  StadiumType  \\\n",
       "0        81.99  177.18  ...  Gillette Stadium  Foxborough, MA      Outdoor   \n",
       "1        27.61  198.70  ...  Gillette Stadium  Foxborough, MA      Outdoor   \n",
       "2         3.01  202.73  ...  Gillette Stadium  Foxborough, MA      Outdoor   \n",
       "3       359.77  105.64  ...  Gillette Stadium  Foxborough, MA      Outdoor   \n",
       "4        12.63  164.31  ...  Gillette Stadium  Foxborough, MA      Outdoor   \n",
       "\n",
       "         Turf     GameWeather  Temperature Humidity WindSpeed  WindDirection  \\\n",
       "0  Field Turf  Clear and warm         63.0     77.0         8             SW   \n",
       "1  Field Turf  Clear and warm         63.0     77.0         8             SW   \n",
       "2  Field Turf  Clear and warm         63.0     77.0         8             SW   \n",
       "3  Field Turf  Clear and warm         63.0     77.0         8             SW   \n",
       "4  Field Turf  Clear and warm         63.0     77.0         8             SW   \n",
       "\n",
       "   Class  \n",
       "0      0  \n",
       "1      0  \n",
       "2      0  \n",
       "3      0  \n",
       "4      0  \n",
       "\n",
       "[5 rows x 50 columns]"
      ]
     },
     "execution_count": 3,
     "metadata": {},
     "output_type": "execute_result"
    }
   ],
   "source": [
    "data1.head()"
   ]
  },
  {
   "cell_type": "code",
   "execution_count": 5,
   "metadata": {},
   "outputs": [
    {
     "data": {
      "text/html": [
       "<div>\n",
       "<style scoped>\n",
       "    .dataframe tbody tr th:only-of-type {\n",
       "        vertical-align: middle;\n",
       "    }\n",
       "\n",
       "    .dataframe tbody tr th {\n",
       "        vertical-align: top;\n",
       "    }\n",
       "\n",
       "    .dataframe thead th {\n",
       "        text-align: right;\n",
       "    }\n",
       "</style>\n",
       "<table border=\"1\" class=\"dataframe\">\n",
       "  <thead>\n",
       "    <tr style=\"text-align: right;\">\n",
       "      <th></th>\n",
       "      <th>GameId</th>\n",
       "      <th>PlayId</th>\n",
       "      <th>Team</th>\n",
       "      <th>X</th>\n",
       "      <th>Y</th>\n",
       "      <th>S</th>\n",
       "      <th>A</th>\n",
       "      <th>Dis</th>\n",
       "      <th>Orientation</th>\n",
       "      <th>Dir</th>\n",
       "      <th>...</th>\n",
       "      <th>Stadium</th>\n",
       "      <th>Location</th>\n",
       "      <th>StadiumType</th>\n",
       "      <th>Turf</th>\n",
       "      <th>GameWeather</th>\n",
       "      <th>Temperature</th>\n",
       "      <th>Humidity</th>\n",
       "      <th>WindSpeed</th>\n",
       "      <th>WindDirection</th>\n",
       "      <th>Class</th>\n",
       "    </tr>\n",
       "  </thead>\n",
       "  <tbody>\n",
       "    <tr>\n",
       "      <th>509757</th>\n",
       "      <td>2018123015</td>\n",
       "      <td>2.018120e+13</td>\n",
       "      <td>home</td>\n",
       "      <td>86.77</td>\n",
       "      <td>24.20</td>\n",
       "      <td>2.14</td>\n",
       "      <td>2.12</td>\n",
       "      <td>0.22</td>\n",
       "      <td>44.55</td>\n",
       "      <td>15.31</td>\n",
       "      <td>...</td>\n",
       "      <td>CenturyLink Field</td>\n",
       "      <td>Seattle, WA</td>\n",
       "      <td>Outdoor</td>\n",
       "      <td>FieldTurf</td>\n",
       "      <td>Cloudy</td>\n",
       "      <td>45.0</td>\n",
       "      <td>76.0</td>\n",
       "      <td>5</td>\n",
       "      <td>SE</td>\n",
       "      <td>1</td>\n",
       "    </tr>\n",
       "    <tr>\n",
       "      <th>509758</th>\n",
       "      <td>2018123015</td>\n",
       "      <td>2.018120e+13</td>\n",
       "      <td>home</td>\n",
       "      <td>86.76</td>\n",
       "      <td>27.18</td>\n",
       "      <td>1.16</td>\n",
       "      <td>0.66</td>\n",
       "      <td>0.11</td>\n",
       "      <td>53.63</td>\n",
       "      <td>42.80</td>\n",
       "      <td>...</td>\n",
       "      <td>CenturyLink Field</td>\n",
       "      <td>Seattle, WA</td>\n",
       "      <td>Outdoor</td>\n",
       "      <td>FieldTurf</td>\n",
       "      <td>Cloudy</td>\n",
       "      <td>45.0</td>\n",
       "      <td>76.0</td>\n",
       "      <td>5</td>\n",
       "      <td>SE</td>\n",
       "      <td>1</td>\n",
       "    </tr>\n",
       "    <tr>\n",
       "      <th>509759</th>\n",
       "      <td>2018123015</td>\n",
       "      <td>2.018120e+13</td>\n",
       "      <td>home</td>\n",
       "      <td>87.26</td>\n",
       "      <td>27.05</td>\n",
       "      <td>2.59</td>\n",
       "      <td>1.18</td>\n",
       "      <td>0.26</td>\n",
       "      <td>3.96</td>\n",
       "      <td>21.12</td>\n",
       "      <td>...</td>\n",
       "      <td>CenturyLink Field</td>\n",
       "      <td>Seattle, WA</td>\n",
       "      <td>Outdoor</td>\n",
       "      <td>FieldTurf</td>\n",
       "      <td>Cloudy</td>\n",
       "      <td>45.0</td>\n",
       "      <td>76.0</td>\n",
       "      <td>5</td>\n",
       "      <td>SE</td>\n",
       "      <td>1</td>\n",
       "    </tr>\n",
       "    <tr>\n",
       "      <th>509760</th>\n",
       "      <td>2018123015</td>\n",
       "      <td>2.018120e+13</td>\n",
       "      <td>home</td>\n",
       "      <td>84.57</td>\n",
       "      <td>24.37</td>\n",
       "      <td>4.36</td>\n",
       "      <td>1.79</td>\n",
       "      <td>0.47</td>\n",
       "      <td>148.08</td>\n",
       "      <td>183.34</td>\n",
       "      <td>...</td>\n",
       "      <td>CenturyLink Field</td>\n",
       "      <td>Seattle, WA</td>\n",
       "      <td>Outdoor</td>\n",
       "      <td>FieldTurf</td>\n",
       "      <td>Cloudy</td>\n",
       "      <td>45.0</td>\n",
       "      <td>76.0</td>\n",
       "      <td>5</td>\n",
       "      <td>SE</td>\n",
       "      <td>1</td>\n",
       "    </tr>\n",
       "    <tr>\n",
       "      <th>509761</th>\n",
       "      <td>2018123015</td>\n",
       "      <td>2.018120e+13</td>\n",
       "      <td>home</td>\n",
       "      <td>80.80</td>\n",
       "      <td>26.35</td>\n",
       "      <td>4.87</td>\n",
       "      <td>4.10</td>\n",
       "      <td>0.45</td>\n",
       "      <td>135.44</td>\n",
       "      <td>118.24</td>\n",
       "      <td>...</td>\n",
       "      <td>CenturyLink Field</td>\n",
       "      <td>Seattle, WA</td>\n",
       "      <td>Outdoor</td>\n",
       "      <td>FieldTurf</td>\n",
       "      <td>Cloudy</td>\n",
       "      <td>45.0</td>\n",
       "      <td>76.0</td>\n",
       "      <td>5</td>\n",
       "      <td>SE</td>\n",
       "      <td>1</td>\n",
       "    </tr>\n",
       "  </tbody>\n",
       "</table>\n",
       "<p>5 rows × 50 columns</p>\n",
       "</div>"
      ],
      "text/plain": [
       "            GameId        PlayId  Team      X      Y     S     A   Dis  \\\n",
       "509757  2018123015  2.018120e+13  home  86.77  24.20  2.14  2.12  0.22   \n",
       "509758  2018123015  2.018120e+13  home  86.76  27.18  1.16  0.66  0.11   \n",
       "509759  2018123015  2.018120e+13  home  87.26  27.05  2.59  1.18  0.26   \n",
       "509760  2018123015  2.018120e+13  home  84.57  24.37  4.36  1.79  0.47   \n",
       "509761  2018123015  2.018120e+13  home  80.80  26.35  4.87  4.10  0.45   \n",
       "\n",
       "        Orientation     Dir  ...            Stadium     Location  StadiumType  \\\n",
       "509757        44.55   15.31  ...  CenturyLink Field  Seattle, WA      Outdoor   \n",
       "509758        53.63   42.80  ...  CenturyLink Field  Seattle, WA      Outdoor   \n",
       "509759         3.96   21.12  ...  CenturyLink Field  Seattle, WA      Outdoor   \n",
       "509760       148.08  183.34  ...  CenturyLink Field  Seattle, WA      Outdoor   \n",
       "509761       135.44  118.24  ...  CenturyLink Field  Seattle, WA      Outdoor   \n",
       "\n",
       "             Turf  GameWeather  Temperature Humidity WindSpeed  WindDirection  \\\n",
       "509757  FieldTurf       Cloudy         45.0     76.0         5             SE   \n",
       "509758  FieldTurf       Cloudy         45.0     76.0         5             SE   \n",
       "509759  FieldTurf       Cloudy         45.0     76.0         5             SE   \n",
       "509760  FieldTurf       Cloudy         45.0     76.0         5             SE   \n",
       "509761  FieldTurf       Cloudy         45.0     76.0         5             SE   \n",
       "\n",
       "        Class  \n",
       "509757      1  \n",
       "509758      1  \n",
       "509759      1  \n",
       "509760      1  \n",
       "509761      1  \n",
       "\n",
       "[5 rows x 50 columns]"
      ]
     },
     "execution_count": 5,
     "metadata": {},
     "output_type": "execute_result"
    }
   ],
   "source": [
    "data1.tail()"
   ]
  },
  {
   "cell_type": "code",
   "execution_count": 6,
   "metadata": {},
   "outputs": [],
   "source": [
    "data1nparray = data1.values"
   ]
  },
  {
   "cell_type": "code",
   "execution_count": 7,
   "metadata": {},
   "outputs": [],
   "source": [
    "TrainData   = data1nparray[:, [8, 9, 10]]\n",
    "TrainLabels = data1nparray[:, [7]]"
   ]
  },
  {
   "cell_type": "code",
   "execution_count": 8,
   "metadata": {},
   "outputs": [
    {
     "data": {
      "text/plain": [
       "array([[81.99, 177.18, 496723],\n",
       "       [27.61, 198.7, 2495116],\n",
       "       [3.01, 202.73, 2495493],\n",
       "       ...,\n",
       "       [3.96, 21.12, 2556524],\n",
       "       [148.08, 183.34, 2557891],\n",
       "       [135.44, 118.24, 2558865]], dtype=object)"
      ]
     },
     "execution_count": 8,
     "metadata": {},
     "output_type": "execute_result"
    }
   ],
   "source": [
    "TrainData"
   ]
  },
  {
   "cell_type": "code",
   "execution_count": 9,
   "metadata": {},
   "outputs": [
    {
     "data": {
      "text/plain": [
       "array([[0.4],\n",
       "       [0.01],\n",
       "       [0.31],\n",
       "       ...,\n",
       "       [0.26],\n",
       "       [0.47],\n",
       "       [0.45]], dtype=object)"
      ]
     },
     "execution_count": 9,
     "metadata": {},
     "output_type": "execute_result"
    }
   ],
   "source": [
    "TrainLabels"
   ]
  },
  {
   "cell_type": "code",
   "execution_count": 10,
   "metadata": {},
   "outputs": [],
   "source": [
    "TrainLabels=TrainLabels.astype('float32')\n",
    "TrainData =TrainData.astype('float32')"
   ]
  },
  {
   "cell_type": "code",
   "execution_count": 11,
   "metadata": {},
   "outputs": [],
   "source": [
    "model = keras.Sequential([\n",
    "#    keras.layers.Flatten(input_shape=(1, 6)),\n",
    "#    keras.layers.Dense(128, activation=tf.nn.relu),\n",
    "    keras.layers.Dense(7, activation=tf.nn.relu),\n",
    "    keras.layers.Dense(5, activation=tf.nn.softmax)\n",
    "])"
   ]
  },
  {
   "cell_type": "code",
   "execution_count": 12,
   "metadata": {},
   "outputs": [],
   "source": [
    "model.compile(\n",
    "              optimizer='adam', \n",
    "#             optimizer='sgd', \n",
    "              loss='sparse_categorical_crossentropy',\n",
    "              metrics=['accuracy'])"
   ]
  },
  {
   "cell_type": "code",
   "execution_count": 13,
   "metadata": {},
   "outputs": [
    {
     "name": "stdout",
     "output_type": "stream",
     "text": [
      "Train on 509762 samples\n",
      "Epoch 1/10\n",
      "509762/509762 [==============================] - 28s 54us/sample - loss: nan - accuracy: 0.0050\n",
      "Epoch 2/10\n",
      "509762/509762 [==============================] - 27s 52us/sample - loss: nan - accuracy: 0.0051\n",
      "Epoch 3/10\n",
      "509762/509762 [==============================] - 26s 51us/sample - loss: nan - accuracy: 0.0051\n",
      "Epoch 4/10\n",
      "509762/509762 [==============================] - 26s 52us/sample - loss: nan - accuracy: 0.0051\n",
      "Epoch 5/10\n",
      "509762/509762 [==============================] - 26s 50us/sample - loss: nan - accuracy: 0.0051\n",
      "Epoch 6/10\n",
      "509762/509762 [==============================] - 28s 55us/sample - loss: nan - accuracy: 0.0051\n",
      "Epoch 7/10\n",
      "509762/509762 [==============================] - 29s 56us/sample - loss: nan - accuracy: 0.0051: 0s - loss: nan - accuracy: 0. - ETA: 0s - loss: nan - accuracy: 0.0\n",
      "Epoch 8/10\n",
      "509762/509762 [==============================] - 31s 61us/sample - loss: nan - accuracy: 0.0051\n",
      "Epoch 9/10\n",
      "509762/509762 [==============================] - 47s 93us/sample - loss: nan - accuracy: 0.0051\n",
      "Epoch 10/10\n",
      "509762/509762 [==============================] - 34s 67us/sample - loss: nan - accuracy: 0.0051\n"
     ]
    },
    {
     "data": {
      "text/plain": [
       "<tensorflow.python.keras.callbacks.History at 0x63fa0e630>"
      ]
     },
     "execution_count": 13,
     "metadata": {},
     "output_type": "execute_result"
    }
   ],
   "source": [
    "model.fit(TrainData, TrainLabels, epochs=10)"
   ]
  },
  {
   "cell_type": "code",
   "execution_count": 14,
   "metadata": {},
   "outputs": [
    {
     "name": "stderr",
     "output_type": "stream",
     "text": [
      "IOPub data rate exceeded.\n",
      "The notebook server will temporarily stop sending output\n",
      "to the client in order to avoid crashing it.\n",
      "To change this limit, set the config variable\n",
      "`--NotebookApp.iopub_data_rate_limit`.\n",
      "\n",
      "Current values:\n",
      "NotebookApp.iopub_data_rate_limit=1000000.0 (bytes/sec)\n",
      "NotebookApp.rate_limit_window=3.0 (secs)\n",
      "\n"
     ]
    },
    {
     "name": "stdout",
     "output_type": "stream",
     "text": [
      "Train accuracy: 0.0050611855\n"
     ]
    }
   ],
   "source": [
    "train_loss, train_acc = model.evaluate(TrainData, TrainLabels)\n",
    "\n",
    "print('Train accuracy:', train_acc)\n"
   ]
  },
  {
   "cell_type": "code",
   "execution_count": 15,
   "metadata": {},
   "outputs": [],
   "source": [
    "predictions = model.predict(TrainData)\n"
   ]
  },
  {
   "cell_type": "code",
   "execution_count": 16,
   "metadata": {},
   "outputs": [],
   "source": [
    "class_names = ['Unknown', 'Platinum', 'Gold', 'Silver', 'Tin']\n"
   ]
  },
  {
   "cell_type": "code",
   "execution_count": 17,
   "metadata": {},
   "outputs": [],
   "source": [
    "def plot_image(i, predictions_array, true_label):\n",
    "  predictions_array, true_label = predictions_array[i], true_label[i][0]\n",
    "  plt.grid(False)\n",
    "  plt.xticks([])\n",
    "  plt.yticks([])\n",
    "  \n",
    "\n",
    "\n",
    "  predicted_label = np.argmax(predictions_array)\n",
    "  if predicted_label == true_label:\n",
    "    color = 'blue'\n",
    "  else:\n",
    "    color = 'red'\n",
    "  \n",
    "  plt.xlabel(\"{} {:2.0f}% ({})\".format(class_names[predicted_label],\n",
    "                                100*np.max(predictions_array),\n",
    "                                class_names[true_label]),\n",
    "                                color=color)\n",
    "\n",
    "def plot_value_array(i, predictions_array, true_label):\n",
    "  predictions_array, true_label = predictions_array[i], true_label[i][0]\n",
    "  plt.grid(True)\n",
    "  plt.xticks([])\n",
    "  #plt.yticks([])\n",
    "  thisplot = plt.bar(range(5), predictions_array, color=\"#777777\")\n",
    "  plt.ylim([0, 1]) \n",
    "  predicted_label = np.argmax(predictions_array)\n",
    " \n",
    "  thisplot[predicted_label].set_color('red')\n",
    "  thisplot[true_label].set_color('blue')\n"
   ]
  },
  {
   "cell_type": "code",
   "execution_count": 18,
   "metadata": {},
   "outputs": [
    {
     "data": {
      "image/png": "[encoded data removed]",
      "text/plain": [
       "<Figure size 432x216 with 2 Axes>"
      ]
     },
     "metadata": {
      "needs_background": "light"
     },
     "output_type": "display_data"
    }
   ],
   "source": [
    "i = 0\n",
    "TrainLabels = TrainLabels.astype('int32')\n",
    "plt.figure(figsize=(6,3))\n",
    "plt.subplot(1,2,1)\n",
    "plot_image(i, predictions, TrainLabels)\n",
    "plt.subplot(1,2,2)\n",
    "plot_value_array(i, predictions, TrainLabels)\n",
    "plt.xticks(range(5), class_names, rotation=45)\n",
    "plt.show()\n",
    "# Blue bar is correct.  If red bar appears, it is the incorrect prediction of the model."
   ]
  },
  {
   "cell_type": "code",
   "execution_count": 19,
   "metadata": {},
   "outputs": [
    {
     "data": {
      "text/plain": [
       "array([nan, nan, nan, nan, nan], dtype=float32)"
      ]
     },
     "execution_count": 19,
     "metadata": {},
     "output_type": "execute_result"
    }
   ],
   "source": [
    "predictions[0]\n"
   ]
  },
  {
   "cell_type": "code",
   "execution_count": 20,
   "metadata": {
    "scrolled": false
   },
   "outputs": [
    {
     "data": {
      "image/png": "[encoded data removed]",
      "text/plain": [
       "<Figure size 1152x2880 with 160 Axes>"
      ]
     },
     "metadata": {
      "needs_background": "light"
     },
     "output_type": "display_data"
    }
   ],
   "source": [
    "num_rows = 20\n",
    "num_cols = 4\n",
    "num_images = num_rows*num_cols\n",
    "plt.figure(figsize=(2*2*num_cols, 2*num_rows))\n",
    "for i in range(num_images):\n",
    "  plt.subplot(num_rows, 2*num_cols, 2*i+1)\n",
    "  plot_image(i, predictions, TrainLabels)\n",
    "  plt.subplot(num_rows, 2*num_cols, 2*i+2)\n",
    "  plot_value_array(i, predictions, TrainLabels)\n",
    "  plt.xticks(range(5), class_names, rotation=45)\n",
    "plt.show()\n"
   ]
  },
  {
   "cell_type": "code",
   "execution_count": 21,
   "metadata": {},
   "outputs": [],
   "source": [
    "layer0 = model.get_layer(index=0)\n"
   ]
  },
  {
   "cell_type": "code",
   "execution_count": 22,
   "metadata": {
    "scrolled": false
   },
   "outputs": [
    {
     "data": {
      "text/plain": [
       "[array([[nan, nan, nan, nan, nan, nan, nan],\n",
       "        [nan, nan, nan, nan, nan, nan, nan],\n",
       "        [nan, nan, nan, nan, nan, nan, nan]], dtype=float32),\n",
       " array([nan, nan, nan, nan, nan, nan, nan], dtype=float32)]"
      ]
     },
     "execution_count": 22,
     "metadata": {},
     "output_type": "execute_result"
    }
   ],
   "source": [
    "layer0.get_weights()"
   ]
  },
  {
   "cell_type": "code",
   "execution_count": 23,
   "metadata": {},
   "outputs": [],
   "source": [
    "layer1 = model.get_layer(index=1)"
   ]
  },
  {
   "cell_type": "code",
   "execution_count": 24,
   "metadata": {
    "scrolled": false
   },
   "outputs": [
    {
     "data": {
      "text/plain": [
       "[array([[nan, nan, nan, nan, nan],\n",
       "        [nan, nan, nan, nan, nan],\n",
       "        [nan, nan, nan, nan, nan],\n",
       "        [nan, nan, nan, nan, nan],\n",
       "        [nan, nan, nan, nan, nan],\n",
       "        [nan, nan, nan, nan, nan],\n",
       "        [nan, nan, nan, nan, nan]], dtype=float32),\n",
       " array([nan, nan, nan, nan, nan], dtype=float32)]"
      ]
     },
     "execution_count": 24,
     "metadata": {},
     "output_type": "execute_result"
    }
   ],
   "source": [
    "layer1.get_weights()"
   ]
  },
  {
   "cell_type": "code",
   "execution_count": 25,
   "metadata": {},
   "outputs": [],
   "source": [
    "#predictionsDF = pd.DataFrame(\n",
    "#    data=predictions[1:,1:],    # values\n",
    "#    index=predictions[1:,0],    # 1st column as index\n",
    "#    columns=predictions[0,1:])  # 1st row as the column names\n",
    "\n",
    "predictionsDF = pd.DataFrame(\n",
    "    data=predictions)\n"
   ]
  },
  {
   "cell_type": "code",
   "execution_count": 26,
   "metadata": {},
   "outputs": [],
   "source": [
    "predictionsDF.to_csv(\"Predictions1.csv\", encoding='utf-8', header=False, index=False)\n"
   ]
  },
  {
   "cell_type": "code",
   "execution_count": 27,
   "metadata": {},
   "outputs": [],
   "source": [
    "PredictedLabels = np.ndarray.copy(TrainLabels)\n",
    "PredictedOutcomes = np.ndarray.copy(TrainLabels)\n",
    "for i in range(len(TrainLabels)):\n",
    "  PredictedLabels[i] = np.argmax(predictions[i])\n",
    "  if PredictedLabels[i] == TrainLabels[i]:\n",
    "    PredictedOutcomes[i] = 1\n",
    "  else:\n",
    "    PredictedOutcomes[i] = 0\n"
   ]
  },
  {
   "cell_type": "code",
   "execution_count": null,
   "metadata": {},
   "outputs": [],
   "source": [
    "TrainDataLabels = np.append(TrainData, TrainLabels, axis=1)\n",
    "TrainDataLabelsPredictions = np.append(TrainDataLabels, PredictedLabels, axis=1)\n",
    "TrainDataLabelsPredictionsOutcomes = np.append(TrainDataLabelsPredictions, PredictedOutcomes, axis=1)\n",
    "TrainDataLabelsPredictionsOutcomesProb = np.append(TrainDataLabelsPredictionsOutcomes, predictions, axis=1)\n"
   ]
  },
  {
   "cell_type": "code",
   "execution_count": null,
   "metadata": {},
   "outputs": [],
   "source": [
    "TDLPOP_DF = pd.DataFrame(\n",
    "    data=TrainDataLabelsPredictionsOutcomesProb)"
   ]
  },
  {
   "cell_type": "code",
   "execution_count": null,
   "metadata": {},
   "outputs": [],
   "source": [
    "TDLPOP_DF.to_csv(\"Predictions2.csv\", encoding='utf-8', header=False, index=False)"
   ]
  },
  {
   "cell_type": "code",
   "execution_count": null,
   "metadata": {},
   "outputs": [],
   "source": [
    "#CycNorm, DefNorm, CosNorm\n",
    "#Each ranges from 0 to 1\n",
    "SingleObservation = np.array([[0.9, 0.9, 0.9]])\n",
    "SinglePrediction = model.predict(SingleObservation)"
   ]
  },
  {
   "cell_type": "code",
   "execution_count": null,
   "metadata": {},
   "outputs": [],
   "source": [
    "SinglePrediction[0]"
   ]
  },
  {
   "cell_type": "code",
   "execution_count": null,
   "metadata": {},
   "outputs": [],
   "source": [
    "np.max(SinglePrediction[0])"
   ]
  },
  {
   "cell_type": "code",
   "execution_count": null,
   "metadata": {},
   "outputs": [],
   "source": [
    "np.argmax(SinglePrediction[0])"
   ]
  },
  {
   "cell_type": "code",
   "execution_count": null,
   "metadata": {},
   "outputs": [],
   "source": [
    "class_names[np.argmax(SinglePrediction[0])]"
   ]
  },
  {
   "cell_type": "code",
   "execution_count": null,
   "metadata": {},
   "outputs": [],
   "source": [
    "BlankLabels = np.array([[0, 0, 0, 0, 0]])\n",
    "\n",
    "i = 0\n",
    "plt.figure(figsize=(6,3))\n",
    "plt.subplot(1,2,1)\n",
    "plot_image(i, SinglePrediction, BlankLabels)\n",
    "plt.subplot(1,2,2)\n",
    "plot_value_array(i, SinglePrediction, BlankLabels)\n",
    "plt.xticks(range(5), class_names, rotation=45)\n",
    "plt.show()"
   ]
  },
  {
   "cell_type": "code",
   "execution_count": null,
   "metadata": {},
   "outputs": [],
   "source": [
    "!date"
   ]
  },
  {
   "cell_type": "code",
   "execution_count": null,
   "metadata": {},
   "outputs": [],
   "source": []
  }
 ],
 "metadata": {
  "kernelspec": {
   "display_name": "Python 3",
   "language": "python",
   "name": "python3"
  },
  "language_info": {
   "codemirror_mode": {
    "name": "ipython",
    "version": 3
   },
   "file_extension": ".py",
   "mimetype": "text/x-python",
   "name": "python",
   "nbconvert_exporter": "python",
   "pygments_lexer": "ipython3",
   "version": "3.7.3"
  }
 },
 "nbformat": 4,
 "nbformat_minor": 2
}
